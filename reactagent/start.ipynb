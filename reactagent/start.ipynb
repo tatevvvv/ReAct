{
 "cells": [
  {
   "metadata": {
    "ExecuteTime": {
     "end_time": "2025-04-25T20:58:04.374151Z",
     "start_time": "2025-04-25T20:58:04.354909Z"
    }
   },
   "cell_type": "code",
   "source": [
    "from helper import Helper\n",
    "from core.ReActMainAgent import ReActMainAgent\n",
    "import json\n",
    "from uuid import uuid4\n",
    "from typing import Dict\n",
    "\n",
    "def main():\n",
    "    with open(\"appsettings.json\") as f:\n",
    "        cfg: Dict = json.load(f)\n",
    "\n",
    "    intro = \"Starting a chat. Please don't say 'Thank you' or 'Please' it costs millions for us. Provide the session_id if you want to continue previous session. Type ‘new’ to start a new session.Type 'quit' to exit.\"\n",
    "    cnt = True\n",
    "    while cnt:\n",
    "        cnt = False\n",
    "        try:\n",
    "          user_input = input(f\"{intro}\").strip()\n",
    "        except (EOFError, KeyboardInterrupt):\n",
    "          print(\"Invalid input. Try again.\")\n",
    "          cnt = True\n",
    "        if not user_input or user_input.lower() in {\"exit\",\"quit\"}:\n",
    "          return ## terminate program\n",
    "        if user_input.lower() == \"new\":\n",
    "          session_id = str(uuid4())\n",
    "        else:\n",
    "          session_id = user_input\n",
    "\n",
    "    llm, plugins, ltm = Helper.resolve_dependencies(cfg)\n",
    "    agent = ReActMainAgent(session_id,llm, plugins, ltm)\n",
    "    ## todo: validate session id\n",
    "    print(f\"Session: {session_id} started. Ask a question\")\n",
    "\n",
    "\n",
    "    while True:\n",
    "        try:\n",
    "            question = input(\">> \").strip()\n",
    "        except (EOFError, KeyboardInterrupt):\n",
    "            break\n",
    "        answer, info = agent.ask(question)\n",
    "        print(answer)\n",
    "\n",
    "    agent.flush()"
   ],
   "id": "966343d8935477b5",
   "outputs": [],
   "execution_count": 3
  },
  {
   "metadata": {
    "ExecuteTime": {
     "end_time": "2025-04-25T20:58:26.400080Z",
     "start_time": "2025-04-25T20:58:05.215066Z"
    }
   },
   "cell_type": "code",
   "source": [
    "if __name__ == '__main__':\n",
    "    main()"
   ],
   "id": "3907130766399d82",
   "outputs": [
    {
     "name": "stdout",
     "output_type": "stream",
     "text": [
      "Session: e3f030d5-2f4e-4b47-89dc-d6945fc084e5 started. Ask a question\n",
      "how many seasons stranger things has ?\n",
      "Thought 1: I need to search Stranger Things and find how many seasons it has.\n",
      "Action 1: Search[Stranger Things]\n",
      "Observation 1: Stranger Things is an American television series created by the Duffer Brothers for Netflix. Produced by Monkey Massacre Productions and 21 Laps Entertainment, the first season was released on Netflix on July 15, 2016. The second and third seasons followed in October 2017 and July 2019, respectively, and the fourth season was released in two parts in May and July 2022. The fifth and final season of Stranger Things is expected to be released in 2025. The show is known for its cast of characters, plot, nostalgic tones, and mix of the horror, drama, science-fiction, mystery, and coming-of-age genres..\n",
      "\n",
      "Thought 2: The first season was released on July 15, 2016. The second and third seasons followed in October 2017 and July 2019, respectively, and the fourth season was released in two parts in May and July 2022. The fifth and final season of Stranger Things is expected to be released in 2025. So Stranger Things has 4 seasons.\n",
      "Action 2: Finish[4]\n",
      "Observation 2: Episode finished\n",
      "\n",
      "\n",
      "{'steps': 2, 'answer': '4'} \n",
      "\n",
      "Episode finished\n",
      "\n"
     ]
    }
   ],
   "execution_count": 4
  },
  {
   "metadata": {
    "ExecuteTime": {
     "end_time": "2025-04-25T20:53:44.500436200Z",
     "start_time": "2025-04-24T16:35:56.721868Z"
    }
   },
   "cell_type": "code",
   "source": "",
   "id": "37caad9d77f51efc",
   "outputs": [],
   "execution_count": null
  },
  {
   "metadata": {},
   "cell_type": "code",
   "outputs": [],
   "execution_count": null,
   "source": "",
   "id": "7fa418ab5b5a9cfe"
  },
  {
   "metadata": {
    "ExecuteTime": {
     "end_time": "2025-04-26T10:44:19.198230Z",
     "start_time": "2025-04-26T10:44:17.178641Z"
    }
   },
   "cell_type": "code",
   "source": [
    "from Agent import Agent\n",
    "from uuid import uuid4\n",
    "\n",
    "agent = Agent(str(uuid4()), settings_path=\"appsettings.json\")"
   ],
   "id": "daf182656d99a5d0",
   "outputs": [],
   "execution_count": 1
  },
  {
   "metadata": {
    "ExecuteTime": {
     "end_time": "2025-04-26T10:44:52.121605Z",
     "start_time": "2025-04-26T10:44:50.886639Z"
    }
   },
   "cell_type": "code",
   "source": "answer = agent.start(\"What is Donald Trump's wife name?\", transparency=False)",
   "id": "133fc13543502274",
   "outputs": [],
   "execution_count": 4
  },
  {
   "metadata": {
    "ExecuteTime": {
     "end_time": "2025-04-26T10:44:56.511723Z",
     "start_time": "2025-04-26T10:44:56.489120Z"
    }
   },
   "cell_type": "code",
   "source": "answer",
   "id": "4aa9d80dc4d8c6f5",
   "outputs": [
    {
     "data": {
      "text/plain": [
       "{'steps': 5,\n",
       " 'answer': 'Melania Trump',\n",
       " 'n_calls': 1,\n",
       " 'n_badcalls': 0,\n",
       " 'traj': 'Solve a question answering task with interleaving Thought, Action, Observation steps. Thought can reason about the current situation, and Action can be three types: \\n    (1) Search[entity], which searches the exact entity on wikipedia and returns the first paragraph if it exists. If not, it will return some similar entities to search.\\n    (2) Lookup[keyword], which returns the next sentence containing keyword in the current passage.\\n    (3) Finish[answer], which returns the answer and finishes the task.\\n    Here are some examples.\\n    \\nQuestion: What is the elevation range for the area that the eastern sector of the Colorado orogeny extends into?\\nThought 1: I need to search Colorado orogeny, find the area that the eastern sector of the Colorado orogeny extends into, then find the elevation range of the area.\\nAction 1: Search[Colorado orogeny]\\nObservation 1: The Colorado orogeny was an episode of mountain building (an orogeny) in Colorado and surrounding areas.\\nThought 2: It does not mention the eastern sector. So I need to look up eastern sector.\\nAction 2: Lookup[eastern sector]\\nObservation 2: (Result 1 / 1) The eastern sector extends into the High Plains and is called the Central Plains orogeny.\\nThought 3: The eastern sector of Colorado orogeny extends into the High Plains. So I need to search High Plains and find its elevation range.\\nAction 3: Search[High Plains]\\nObservation 3: High Plains refers to one of two distinct land regions:\\nThought 4: I need to instead search High Plains (United States).\\nAction 4: Search[High Plains (United States)]\\nObservation 4: The High Plains are a subregion of the Great Plains. From east to west, the High Plains rise in elevation from around 1,800 to 7,000 ft (550 to 2,130 m).[3]\\nThought 5: High Plains rise in elevation from around 1,800 to 7,000 ft, so the answer is 1,800 to 7,000 ft.\\nAction 5: Finish[1,800 to 7,000 ft]\\nQuestion: Musician and satirist Allie Goertz wrote a song about the \"The Simpsons\" character Milhouse, who Matt Groening named after who?\\nThought 1: The question simplifies to \"The Simpsons\" character Milhouse is named after who. I only need to search Milhouse and find who it is named after.\\nAction 1: Search[Milhouse]\\nObservation 1: Milhouse Mussolini Van Houten is a recurring character in the Fox animated television series The Simpsons voiced by Pamela Hayden and created by Matt Groening.\\nThought 2: The paragraph does not tell who Milhouse is named after, maybe I can look up \"named after\".\\nAction 2: Lookup[named after]\\nObservation 2: (Result 1 / 1) Milhouse was named after U.S. president Richard Nixon, whose middle name was Milhous. \\nThought 3: Milhouse was named after U.S. president Richard Nixon, so the answer is Richard Nixon.\\nAction 3: Finish[Richard Nixon]\\nQuestion: Which documentary is about Finnish rock groups, Adam Clayton Powell or The Saimaa Gesture?\\nThought 1: I need to search Adam Clayton Powell and The Saimaa Gesture, and find which documentary is about Finnish rock groups.\\nAction 1: Search[Adam Clayton Powell]\\nObservation 1: Could not find [Adam Clayton Powell]. Similar: [\\'Adam Clayton Powell III\\', \\'Seventh Avenue (Manhattan)\\', \\'Adam Clayton Powell Jr. State Office Building\\', \\'Isabel Washington Powell\\', \\'Adam Powell\\', \\'Adam Clayton Powell (film)\\', \\'Giancarlo Esposito\\'].\\nThought 2: To find the documentary, I can search Adam Clayton Powell (film).\\nAction 2: Search[Adam Clayton Powell (film)]\\nObservation 2: Adam Clayton Powell is a 1989 American documentary film directed by Richard Kilberg.\\nThe film is about the rise and fall of influential African-American politician Adam Clayton Powell Jr.[3][4] It was later aired as part of the PBS series The American Experience.\\nThought 3: Adam Clayton Powell (film) is a documentary about an African-American politician, not Finnish rock groups. So the documentary about Finnish rock groups must instead be The Saimaa Gesture.\\nAction 3: Finish[The Saimaa Gesture]\\nQuestion: What profession does Nicholas Ray and Elia Kazan have in common?\\nThought 1: I need to search Nicholas Ray and Elia Kazan, find their professions, then find the profession they have in common.\\nAction 1: Search[Nicholas Ray]\\nObservation 1: Nicholas Ray (born Raymond Nicholas Kienzle Jr., August 7, 1911 – June 16, 1979) was an American film director, screenwriter, and actor best known for the 1955 film Rebel Without a Cause.\\nThought 2: Professions of Nicholas Ray are director, screenwriter, and actor. I need to search Elia Kazan next and find his professions.\\nAction 2: Search[Elia Kazan]\\nObservation 2: Elia Kazan was an American film and theatre director, producer, screenwriter and actor.\\nThought 3: Professions of Elia Kazan are director, producer, screenwriter, and actor. So profession Nicholas Ray and Elia Kazan have in common is director, screenwriter, and actor.\\nAction 3: Finish[director, screenwriter, actor]\\nQuestion: Which magazine was started first Arthur\\'s Magazine or First for Women?\\nThought 1: I need to search Arthur\\'s Magazine and First for Women, and find which was started first.\\nAction 1: Search[Arthur\\'s Magazine]\\nObservation 1: Arthur\\'s Magazine (1844-\\x80\\x931846) was an American literary periodical published in Philadelphia in the 19th century. \\nThought 2: Arthur\\'s Magazine was started in 1844. I need to search First for Women next.\\nAction 2: Search[First for Women]\\nObservation 2: First for Women is a woman\\'s magazine published by Bauer Media Group in the USA.[1] The magazine was started in 1989. \\nThought 3: First for Women was started in 1989. 1844 (Arthur\\'s Magazine) < 1989 (First for Women), so Arthur\\'s Magazine was started first.\\nAction 3: Finish[Arthur\\'s Magazine]\\nQuestion: Were Pavel Urysohn and Leonid Levin known for the same type of work?\\nThought 1: I need to search Pavel Urysohn and Leonid Levin, find their types of work, then find if they are the same.\\nAction 1: Search[Pavel Urysohn]\\nObservation 1: Pavel Samuilovich Urysohn (February 3, 1898 â\\x80\\x93 August 17, 1924) was a Soviet mathematician who is best known for his contributions in dimension theory.\\nThought 2: Pavel Urysohn is a mathematician. I need to search Leonid Levin next and find its type of work.\\nAction 2: Search[Leonid Levin]\\nObservation 2: Leonid Anatolievich Levin is a Soviet-American mathematician and computer scientist. \\nThought 3: Leonid Levin is a mathematician and computer scientist. So Pavel Urysohn and Leonid Levin have the same type of work. \\nAction 3: Finish[yes]\\n\\n End of Examples\\nThe question was \"What is Donald Trump\\'s wife name?\". The answer provided was Melania Trump, clarifying that she is his third wife and therefore his current wife.\\n\\nQuestion: What is Donald Trump\\'s wife name?\\nThought 1: I need to find Donald Trump\\'s wife\\'s name.\\nAction 1: Search[Donald Trump]\\nObservation 1: Finished\\n\\n'}"
      ]
     },
     "execution_count": 5,
     "metadata": {},
     "output_type": "execute_result"
    }
   ],
   "execution_count": 5
  },
  {
   "metadata": {},
   "cell_type": "code",
   "outputs": [],
   "execution_count": null,
   "source": "",
   "id": "91e587843f165cf9"
  },
  {
   "metadata": {},
   "cell_type": "code",
   "outputs": [],
   "execution_count": null,
   "source": "",
   "id": "e71c0162b8ffa0b9"
  }
 ],
 "metadata": {
  "kernelspec": {
   "display_name": "Python 3",
   "language": "python",
   "name": "python3"
  },
  "language_info": {
   "codemirror_mode": {
    "name": "ipython",
    "version": 2
   },
   "file_extension": ".py",
   "mimetype": "text/x-python",
   "name": "python",
   "nbconvert_exporter": "python",
   "pygments_lexer": "ipython2",
   "version": "2.7.6"
  }
 },
 "nbformat": 4,
 "nbformat_minor": 5
}
