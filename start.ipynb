{
 "cells": [
  {
   "metadata": {
    "ExecuteTime": {
     "end_time": "2025-04-25T14:12:05.129306Z",
     "start_time": "2025-04-25T14:12:05.103457Z"
    }
   },
   "cell_type": "code",
   "source": [
    "from helper import Helper\n",
    "from core.ReActMainAgent import ReActMainAgent\n",
    "import json\n",
    "from uuid import uuid4\n",
    "from typing import Dict\n",
    "\n",
    "def main():\n",
    "    with open(\"appsettings.json\") as f:\n",
    "        cfg: Dict = json.load(f)\n",
    "\n",
    "    intro = \"Starting a chat. Please don't say 'Thank you' or 'Please' it costs millions for us. Provide the session_id if you want to continue previous session. Type ‘new’ to start a new session.Type 'quit' to exit.\"\n",
    "    cnt = True\n",
    "    while cnt:\n",
    "        cnt = False\n",
    "        try:\n",
    "          user_input = input(f\"{intro}\").strip()\n",
    "        except (EOFError, KeyboardInterrupt):\n",
    "          print(\"Invalid input. Try again.\")\n",
    "          cnt = True\n",
    "        if not user_input or user_input.lower() in {\"exit\",\"quit\"}:\n",
    "          return ## terminate program\n",
    "        if user_input.lower() == \"new\":\n",
    "          session_id = str(uuid4())\n",
    "        else:\n",
    "          session_id = user_input\n",
    "\n",
    "    llm, plugins, ltm = Helper.resolve_dependencies(cfg)\n",
    "    agent = ReActMainAgent(session_id,llm, plugins, ltm)\n",
    "    ## todo: validate session id\n",
    "    print(f\"Session: {session_id} started. Ask a question\")\n",
    "\n",
    "\n",
    "    while True:\n",
    "        try:\n",
    "            question = input(\">> \").strip()\n",
    "        except (EOFError, KeyboardInterrupt):\n",
    "            break\n",
    "        answer, info = agent.ask(question)\n",
    "        print(answer)\n",
    "\n",
    "    agent.flush()"
   ],
   "id": "966343d8935477b5",
   "outputs": [],
   "execution_count": 3
  },
  {
   "metadata": {
    "ExecuteTime": {
     "end_time": "2025-04-25T14:13:33.760993Z",
     "start_time": "2025-04-25T14:12:46.693587Z"
    }
   },
   "cell_type": "code",
   "source": [
    "if __name__ == '__main__':\n",
    "    main()"
   ],
   "id": "3907130766399d82",
   "outputs": [
    {
     "name": "stdout",
     "output_type": "stream",
     "text": [
      "Session: a574695e-610d-4817-ad00-687eaf416d1c started. Ask a question\n",
      "name two other characters from the same movie\n",
      "Thought 1: I need to identify the movie that features Milhouse from The Simpsons, then name two other characters from that movie.\n",
      "Action 1: Search[The Simpsons Movie characters]\n",
      "Observation 1: Could not find The Simpsons Movie characters. Similar: ['List of The Simpsons characters', 'The Simpsons Movie', 'List of recurring The Simpsons characters', 'The Simpsons (franchise)', 'The Simpsons Game'].\n",
      "\n",
      "Thought 2: I need to search The Simpsons Movie to find the characters in the movie.\n",
      "Action 2: Search[The Simpsons Movie]\n",
      "Observation 2: The Simpsons Movie is a 2007 American animated comedy film based on the Fox animated sitcom The Simpsons created by Matt Groening. The film was directed by series veteran David Silverman and stars Dan Castellaneta, Julie Kavner, Nancy Cartwright, Yeardley Smith, Hank Azaria, Harry Shearer, Pamela Hayden, Tress MacNeille, and other recurring actors reprising their roles from the series, with Albert Brooks joining for the film. The plot follows the Simpson family as they grapple with the fallout of Homer Simpson’s reckless actions, which lead to Springfield being imprisoned under a massive glass dome by the Environmental Protection Agency (EPA), the family's eviction from the town, and a strain on their relationship with him.. Although previous attempts to create a Simpsons film had been made, they failed due to the lack of a final screenplay. In 2001, series producers Groening, James L.\n",
      "\n",
      "Thought 3: The characters in the movie are Dan Castellaneta, Julie Kavner, Nancy Cartwright, Yeardley Smith, Hank Azaria, Harry Shearer, Pamela Hayden, Tress MacNeille, and Albert Brooks. I need to name two of them.\n",
      "Action 3: Finish[Homer Simpson, Marge Simpson]\n",
      "Observation 3: Episode finished, reward = 0\n",
      "\n",
      "\n",
      "{'steps': 3, 'answer': 'Homer Simpson, Marge Simpson'} \n",
      "\n",
      "--- Trace ---\n",
      "steps\n",
      "answer\n",
      "n_calls\n",
      "n_badcalls\n",
      "traj\n",
      "0\n"
     ]
    }
   ],
   "execution_count": 5
  },
  {
   "metadata": {
    "ExecuteTime": {
     "end_time": "2025-04-24T16:35:56.737726Z",
     "start_time": "2025-04-24T16:35:56.721868Z"
    }
   },
   "cell_type": "code",
   "source": "",
   "id": "37caad9d77f51efc",
   "outputs": [],
   "execution_count": null
  }
 ],
 "metadata": {
  "kernelspec": {
   "display_name": "Python 3",
   "language": "python",
   "name": "python3"
  },
  "language_info": {
   "codemirror_mode": {
    "name": "ipython",
    "version": 2
   },
   "file_extension": ".py",
   "mimetype": "text/x-python",
   "name": "python",
   "nbconvert_exporter": "python",
   "pygments_lexer": "ipython2",
   "version": "2.7.6"
  }
 },
 "nbformat": 4,
 "nbformat_minor": 5
}
